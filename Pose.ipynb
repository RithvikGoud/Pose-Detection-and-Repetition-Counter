{
 "cells": [
  {
   "cell_type": "code",
   "execution_count": 1,
   "id": "88aea53b-6fab-4940-9310-26e53b118a77",
   "metadata": {},
   "outputs": [],
   "source": [
    "import cv2\n",
    "import mediapipe as mp\n",
    "import numpy as np\n",
    "mp_drawing=mp.solutions.drawing_utils\n",
    "mp_pose=mp.solutions.pose"
   ]
  },
  {
   "cell_type": "code",
   "execution_count": 2,
   "id": "74b4d767-9c3a-48b3-979b-1d703c1e7a16",
   "metadata": {},
   "outputs": [],
   "source": [
    "def calculate_angle(a,b,c):\n",
    "    a=np.array(a)\n",
    "    b=np.array(b)\n",
    "    c=np.array(c)\n",
    "    radians=np.arctan2(c[1]-b[1],c[0]-b[0])-np.arctan2(a[1]-b[1],a[0]-b[0])\n",
    "    angle=np.abs(radians*180.0/np.pi)\n",
    "    if angle>180.0:\n",
    "        angle=360-angle\n",
    "    return angle"
   ]
  },
  {
   "cell_type": "code",
   "execution_count": 3,
   "id": "7cdc9f5b-8d04-4b39-9d91-68a176d0b8b5",
   "metadata": {},
   "outputs": [
    {
     "name": "stderr",
     "output_type": "stream",
     "text": [
      "C:\\Users\\MRITH\\AppData\\Local\\Programs\\Python\\Python312\\Lib\\site-packages\\google\\protobuf\\symbol_database.py:55: UserWarning: SymbolDatabase.GetPrototype() is deprecated. Please use message_factory.GetMessageClass() instead. SymbolDatabase.GetPrototype() will be removed soon.\n",
      "  warnings.warn('SymbolDatabase.GetPrototype() is deprecated. Please '\n"
     ]
    }
   ],
   "source": [
    "cap = cv2.VideoCapture(0)\n",
    "counter=0\n",
    "stage=None\n",
    "with mp_pose.Pose(min_detection_confidence=0.5,min_tracking_confidence=0.5) as pose:\n",
    "    while cap.isOpened():\n",
    "        ret, frame = cap.read()\n",
    "        image=cv2.cvtColor(frame,cv2.COLOR_BGR2RGB)\n",
    "        result=pose.process(image)\n",
    "        image=cv2.cvtColor(image,cv2.COLOR_RGB2BGR)\n",
    "        try:\n",
    "            landmark=result.pose_landmarks.landmark\n",
    "\n",
    "            shoulder=[landmark[mp_pose.PoseLandmark.LEFT_SHOULDER.value].x,landmark[mp_pose.PoseLandmark.LEFT_SHOULDER.value].y]\n",
    "            elbow=[landmark[mp_pose.PoseLandmark.LEFT_ELBOW.value].x,landmark[mp_pose.PoseLandmark.LEFT_ELBOW.value].y]\n",
    "            wrist=[landmark[mp_pose.PoseLandmark.LEFT_WRIST.value].x,landmark[mp_pose.PoseLandmark.LEFT_WRIST.value].y]\n",
    "\n",
    "            angle=calculate_angle(shoulder,elbow,wrist)\n",
    "            cv2.putText(image,str(angle),tuple(np.multiply(elbow,[640,480]).astype(int)),\n",
    "                        cv2.FONT_HERSHEY_SIMPLEX,0.5,(255,255,255),2,cv2.LINE_AA)\n",
    "            if angle>160:\n",
    "                stage='down'\n",
    "            if angle<30 and stage=='down':\n",
    "                stage='up'\n",
    "                counter+=1\n",
    "        except:\n",
    "            pass\n",
    "\n",
    "        cv2.rectangle(image,(0,0),(250,80),(245,117,16),-1)\n",
    "        cv2.putText(image,'REPS',(15,12),cv2.FONT_HERSHEY_SIMPLEX,0.5,(0,0,0),1,cv2.LINE_AA)\n",
    "        cv2.putText(image,str(counter),(10,60),cv2.FONT_HERSHEY_SIMPLEX,2,(255,255,255),2,cv2.LINE_AA)\n",
    "        \n",
    "        cv2.putText(image,'STAGE',(65,12),cv2.FONT_HERSHEY_SIMPLEX,0.5,(0,0,0),1,cv2.LINE_AA)\n",
    "        cv2.putText(image,stage,(60,60),cv2.FONT_HERSHEY_SIMPLEX,2,(255,255,255),2,cv2.LINE_AA)\n",
    "        mp_drawing.draw_landmarks(image,result.pose_landmarks,mp_pose.POSE_CONNECTIONS,\n",
    "                                  mp_drawing.DrawingSpec(color=(245,117,66),thickness=2,circle_radius=2),\n",
    "                                  mp_drawing.DrawingSpec(color=(245,66,230),thickness=2,circle_radius=2))\n",
    "        cv2.imshow(\"Frame-Read\", image)\n",
    "        if cv2.waitKey(10) & 0xFF == ord('q'):\n",
    "            break\n",
    "cap.release()\n",
    "cv2.destroyAllWindows()\n"
   ]
  },
  {
   "cell_type": "code",
   "execution_count": 11,
   "id": "16381ffe-a1d6-4fd7-a5a9-0b7bab7cffa1",
   "metadata": {},
   "outputs": [
    {
     "data": {
      "text/plain": [
       "[x: 0.552036703\n",
       "y: 0.611575663\n",
       "z: -1.16365886\n",
       "visibility: 0.995717943\n",
       ", x: 0.571719646\n",
       "y: 0.56413\n",
       "z: -1.11098778\n",
       "visibility: 0.990695477\n",
       ", x: 0.583889425\n",
       "y: 0.565301299\n",
       "z: -1.11141205\n",
       "visibility: 0.991039217\n",
       ", x: 0.59386909\n",
       "y: 0.566732585\n",
       "z: -1.1118418\n",
       "visibility: 0.989614189\n",
       ", x: 0.532390952\n",
       "y: 0.562670588\n",
       "z: -1.12580657\n",
       "visibility: 0.992679775\n",
       ", x: 0.515814364\n",
       "y: 0.563078582\n",
       "z: -1.12576413\n",
       "visibility: 0.994141579\n",
       ", x: 0.499454916\n",
       "y: 0.564092\n",
       "z: -1.12630379\n",
       "visibility: 0.994203091\n",
       ", x: 0.606292903\n",
       "y: 0.586587667\n",
       "z: -0.706941426\n",
       "visibility: 0.989068151\n",
       ", x: 0.467680365\n",
       "y: 0.582344651\n",
       "z: -0.777872562\n",
       "visibility: 0.994053\n",
       ", x: 0.571222901\n",
       "y: 0.665267944\n",
       "z: -1.01221561\n",
       "visibility: 0.995300591\n",
       ", x: 0.519611239\n",
       "y: 0.663954437\n",
       "z: -1.02827215\n",
       "visibility: 0.997146368\n",
       ", x: 0.710499704\n",
       "y: 0.825982034\n",
       "z: -0.401788175\n",
       "visibility: 0.993727922\n",
       ", x: 0.334363699\n",
       "y: 0.836318374\n",
       "z: -0.490882456\n",
       "visibility: 0.991376162\n",
       ", x: 0.885872364\n",
       "y: 0.988401771\n",
       "z: -0.336512387\n",
       "visibility: 0.583865762\n",
       ", x: 0.227260202\n",
       "y: 1.02634442\n",
       "z: -0.447479337\n",
       "visibility: 0.53193748\n",
       ", x: 1.01065981\n",
       "y: 1.27184\n",
       "z: -0.704161584\n",
       "visibility: 0.153466433\n",
       ", x: 0.186290056\n",
       "y: 1.45628476\n",
       "z: -0.799902558\n",
       "visibility: 0.0933373421\n",
       ", x: 1.06393158\n",
       "y: 1.35037696\n",
       "z: -0.799461722\n",
       "visibility: 0.116111897\n",
       ", x: 0.165387407\n",
       "y: 1.55230522\n",
       "z: -0.903600216\n",
       "visibility: 0.0738332868\n",
       ", x: 1.0356406\n",
       "y: 1.36659348\n",
       "z: -0.896585166\n",
       "visibility: 0.170027\n",
       ", x: 0.200219467\n",
       "y: 1.5553726\n",
       "z: -1.01202452\n",
       "visibility: 0.112557687\n",
       ", x: 1.00619507\n",
       "y: 1.3462646\n",
       "z: -0.762949586\n",
       "visibility: 0.162274957\n",
       ", x: 0.213575393\n",
       "y: 1.52116013\n",
       "z: -0.855779946\n",
       "visibility: 0.106156193\n",
       ", x: 0.636300921\n",
       "y: 1.48964226\n",
       "z: -0.0493301488\n",
       "visibility: 0.00247995881\n",
       ", x: 0.421267331\n",
       "y: 1.49585211\n",
       "z: 0.0527519584\n",
       "visibility: 0.00191137765\n",
       ", x: 0.643264532\n",
       "y: 2.02531934\n",
       "z: -0.204401016\n",
       "visibility: 0.0083843125\n",
       ", x: 0.422963679\n",
       "y: 2.0222919\n",
       "z: -0.133676395\n",
       "visibility: 0.00364658376\n",
       ", x: 0.642371118\n",
       "y: 2.5256772\n",
       "z: 0.208193824\n",
       "visibility: 0.000700552948\n",
       ", x: 0.420820653\n",
       "y: 2.5241189\n",
       "z: 0.105391309\n",
       "visibility: 0.000287248957\n",
       ", x: 0.64348042\n",
       "y: 2.60430884\n",
       "z: 0.218084455\n",
       "visibility: 0.00045139686\n",
       ", x: 0.413599581\n",
       "y: 2.60734224\n",
       "z: 0.10868039\n",
       "visibility: 0.000665837608\n",
       ", x: 0.609837592\n",
       "y: 2.67221594\n",
       "z: -0.324028552\n",
       "visibility: 0.000795852568\n",
       ", x: 0.45489645\n",
       "y: 2.6611228\n",
       "z: -0.462569177\n",
       "visibility: 0.000902498199\n",
       "]"
      ]
     },
     "execution_count": 11,
     "metadata": {},
     "output_type": "execute_result"
    }
   ],
   "source": [
    "landmark"
   ]
  },
  {
   "cell_type": "code",
   "execution_count": 16,
   "id": "b9a63121-387f-48f6-ac84-ffabce09c9f3",
   "metadata": {},
   "outputs": [
    {
     "data": {
      "text/plain": [
       "x: 0.710499704\n",
       "y: 0.825982034\n",
       "z: -0.401788175\n",
       "visibility: 0.993727922"
      ]
     },
     "execution_count": 16,
     "metadata": {},
     "output_type": "execute_result"
    }
   ],
   "source": [
    "landmark[mp_pose.PoseLandmark.LEFT_SHOULDER.value]"
   ]
  },
  {
   "cell_type": "code",
   "execution_count": 18,
   "id": "a496e155-0ecc-440e-925d-d7165b96fd97",
   "metadata": {},
   "outputs": [
    {
     "data": {
      "text/plain": [
       "x: 0.885872364\n",
       "y: 0.988401771\n",
       "z: -0.336512387\n",
       "visibility: 0.583865762"
      ]
     },
     "execution_count": 18,
     "metadata": {},
     "output_type": "execute_result"
    }
   ],
   "source": [
    "landmark[mp_pose.PoseLandmark.LEFT_ELBOW.value]"
   ]
  },
  {
   "cell_type": "code",
   "execution_count": 19,
   "id": "7c3dfbcd-7fe1-48d0-8670-c2e12f5c5170",
   "metadata": {},
   "outputs": [
    {
     "data": {
      "text/plain": [
       "x: 1.01065981\n",
       "y: 1.27184\n",
       "z: -0.704161584\n",
       "visibility: 0.153466433"
      ]
     },
     "execution_count": 19,
     "metadata": {},
     "output_type": "execute_result"
    }
   ],
   "source": [
    "landmark[mp_pose.PoseLandmark.LEFT_WRIST.value]"
   ]
  },
  {
   "cell_type": "code",
   "execution_count": null,
   "id": "8f125404-1728-4c8a-8ffa-f451e9d6da06",
   "metadata": {},
   "outputs": [],
   "source": []
  }
 ],
 "metadata": {
  "kernelspec": {
   "display_name": "Python 3 (ipykernel)",
   "language": "python",
   "name": "python3"
  },
  "language_info": {
   "codemirror_mode": {
    "name": "ipython",
    "version": 3
   },
   "file_extension": ".py",
   "mimetype": "text/x-python",
   "name": "python",
   "nbconvert_exporter": "python",
   "pygments_lexer": "ipython3",
   "version": "3.12.4"
  }
 },
 "nbformat": 4,
 "nbformat_minor": 5
}
